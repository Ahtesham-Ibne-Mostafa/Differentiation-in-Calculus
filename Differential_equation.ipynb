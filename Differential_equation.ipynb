{
  "nbformat": 4,
  "nbformat_minor": 0,
  "metadata": {
    "colab": {
      "provenance": [],
      "authorship_tag": "ABX9TyOc74Gdz9DwzhdAspX7w159",
      "include_colab_link": true
    },
    "kernelspec": {
      "name": "python3",
      "display_name": "Python 3"
    },
    "language_info": {
      "name": "python"
    }
  },
  "cells": [
    {
      "cell_type": "markdown",
      "metadata": {
        "id": "view-in-github",
        "colab_type": "text"
      },
      "source": [
        "<a href=\"https://colab.research.google.com/github/Ahtesham-Ibne-Mostafa/Differentiation-in-Calculus/blob/main/Differential_equation.ipynb\" target=\"_parent\"><img src=\"https://colab.research.google.com/assets/colab-badge.svg\" alt=\"Open In Colab\"/></a>"
      ]
    },
    {
      "cell_type": "code",
      "execution_count": 10,
      "metadata": {
        "id": "INTrc4Q9P75p",
        "colab": {
          "base_uri": "https://localhost:8080/"
        },
        "outputId": "6274c3c5-c90d-47b3-837e-f9d2dc27eb11"
      },
      "outputs": [
        {
          "output_type": "stream",
          "name": "stdout",
          "text": [
            "Eq(y(x), -x/(C1*x + 1))\n",
            "Eq(y(x), -x/(1 - 3*x))\n"
          ]
        }
      ],
      "source": [
        "# Task 1\n",
        "from sympy import*\n",
        "\n",
        "\n",
        "# Define the symbols\n",
        "x = symbols('x')\n",
        "y = Function('y')\n",
        "\n",
        "# Define the differential equation\n",
        "eq = Eq(Derivative(y(x), x), -(y(x)**2/x**2))\n",
        "\n",
        "# Solve the differential equation\n",
        "sol = dsolve(eq)\n",
        "\n",
        "# Print the solution\n",
        "print(sol)\n",
        "\n",
        "sol = dsolve(eq , y(x),ics={y(1):'1/2'})\n",
        "\n",
        "print(sol)"
      ]
    },
    {
      "cell_type": "code",
      "source": [],
      "metadata": {
        "id": "3eeHZ3oSY-9w"
      },
      "execution_count": null,
      "outputs": []
    }
  ]
}