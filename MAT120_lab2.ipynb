{
  "nbformat": 4,
  "nbformat_minor": 0,
  "metadata": {
    "colab": {
      "provenance": [],
      "authorship_tag": "ABX9TyPuwLjy8roWq9PjcAg9VXg4",
      "include_colab_link": true
    },
    "kernelspec": {
      "name": "python3",
      "display_name": "Python 3"
    },
    "language_info": {
      "name": "python"
    }
  },
  "cells": [
    {
      "cell_type": "markdown",
      "metadata": {
        "id": "view-in-github",
        "colab_type": "text"
      },
      "source": [
        "<a href=\"https://colab.research.google.com/github/Ahtesham-Ibne-Mostafa/Differentiation-in-Calculus/blob/main/MAT120_lab2.ipynb\" target=\"_parent\"><img src=\"https://colab.research.google.com/assets/colab-badge.svg\" alt=\"Open In Colab\"/></a>"
      ]
    },
    {
      "cell_type": "code",
      "execution_count": 4,
      "metadata": {
        "id": "D8tDrLTGz6D1"
      },
      "outputs": [],
      "source": [
        "# import library\n",
        "\n",
        "from numpy import*     # numarical python (array, matrix, linear algebra, fourier, functions)\n",
        "from sympy import*     # symbolic python ( Calculas , sin , cos , log , ln)"
      ]
    },
    {
      "cell_type": "code",
      "source": [
        "# Make a symbol\n",
        "\n",
        "x=symbol(x)"
      ],
      "metadata": {
        "id": "GDn8ZrSn2Cjx"
      },
      "execution_count": 3,
      "outputs": []
    },
    {
      "cell_type": "code",
      "source": [
        "# Write symbolic function"
      ],
      "metadata": {
        "id": "VBN0Fr9K3cxM"
      },
      "execution_count": null,
      "outputs": []
    }
  ]
}