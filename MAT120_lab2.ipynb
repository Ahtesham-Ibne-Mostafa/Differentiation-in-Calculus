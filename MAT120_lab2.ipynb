{
  "nbformat": 4,
  "nbformat_minor": 0,
  "metadata": {
    "colab": {
      "provenance": [],
      "authorship_tag": "ABX9TyOIoqE1iqJ/qrq6hIGTImD1",
      "include_colab_link": true
    },
    "kernelspec": {
      "name": "python3",
      "display_name": "Python 3"
    },
    "language_info": {
      "name": "python"
    }
  },
  "cells": [
    {
      "cell_type": "markdown",
      "metadata": {
        "id": "view-in-github",
        "colab_type": "text"
      },
      "source": [
        "<a href=\"https://colab.research.google.com/github/Ahtesham-Ibne-Mostafa/Differentiation-in-Calculus/blob/main/MAT120_lab2.ipynb\" target=\"_parent\"><img src=\"https://colab.research.google.com/assets/colab-badge.svg\" alt=\"Open In Colab\"/></a>"
      ]
    },
    {
      "cell_type": "code",
      "execution_count": 12,
      "metadata": {
        "id": "D8tDrLTGz6D1"
      },
      "outputs": [],
      "source": [
        "# import library\n",
        "\n",
        "from numpy import*     # numarical python (array, matrix, linear algebra, fourier, functions)\n",
        "from sympy import*     # symbolic python ( Calculas , sin , cos , log , ln)"
      ]
    },
    {
      "cell_type": "code",
      "source": [
        "# Make a symbol\n",
        "\n",
        "x=symbols('x')"
      ],
      "metadata": {
        "id": "GDn8ZrSn2Cjx"
      },
      "execution_count": 13,
      "outputs": []
    },
    {
      "cell_type": "code",
      "source": [
        "# Write symbolic expression from sympy import*\n",
        "\n",
        "f= 2*x**3+x**2+3*x+5"
      ],
      "metadata": {
        "id": "VBN0Fr9K3cxM"
      },
      "execution_count": 14,
      "outputs": []
    },
    {
      "cell_type": "code",
      "source": [
        "# Taking derivatives\n",
        "\n",
        "df = diff(f,x)\n",
        "\n",
        "df2= diff(f,x,2)"
      ],
      "metadata": {
        "id": "uGjtfTS53_kT"
      },
      "execution_count": 15,
      "outputs": []
    },
    {
      "cell_type": "code",
      "source": [
        "# Printing \n",
        "\n",
        "print(df)\n",
        "\n",
        "print(df2)"
      ],
      "metadata": {
        "colab": {
          "base_uri": "https://localhost:8080/"
        },
        "id": "VZTJV7ke4ybr",
        "outputId": "ddd4c7d5-a301-4936-bb25-04a115e34603"
      },
      "execution_count": 16,
      "outputs": [
        {
          "output_type": "stream",
          "name": "stdout",
          "text": [
            "6*x**2 + 2*x + 3\n",
            "2*(6*x + 1)\n"
          ]
        }
      ]
    },
    {
      "cell_type": "code",
      "source": [
        "df2= diff(df,x)\n",
        "print(df2)"
      ],
      "metadata": {
        "colab": {
          "base_uri": "https://localhost:8080/"
        },
        "id": "Jq5gzclv7kc7",
        "outputId": "b3edf26d-456b-4224-d609-8e81865db0ea"
      },
      "execution_count": 24,
      "outputs": [
        {
          "output_type": "stream",
          "name": "stdout",
          "text": [
            "12*x + 2\n"
          ]
        }
      ]
    },
    {
      "cell_type": "code",
      "source": [
        "# Value substituting\n",
        "\n",
        "print(f.subs(x,4))"
      ],
      "metadata": {
        "colab": {
          "base_uri": "https://localhost:8080/"
        },
        "id": "Jicc5U9D5e39",
        "outputId": "1e442e59-8743-41eb-d67c-49ee81d630cf"
      },
      "execution_count": 18,
      "outputs": [
        {
          "output_type": "stream",
          "name": "stdout",
          "text": [
            "161\n"
          ]
        }
      ]
    },
    {
      "cell_type": "code",
      "source": [
        "# Evaluating a number exor into floating point\n",
        "\n",
        "print(f.subs(x,4).evalf())"
      ],
      "metadata": {
        "colab": {
          "base_uri": "https://localhost:8080/"
        },
        "id": "lXxfvoPD5mgL",
        "outputId": "054b1086-9d96-4a3a-e787-6d58219aa0d7"
      },
      "execution_count": 23,
      "outputs": [
        {
          "output_type": "stream",
          "name": "stdout",
          "text": [
            "161.000000000000\n"
          ]
        }
      ]
    },
    {
      "cell_type": "code",
      "source": [
        "# Lambdify function = if eval() function is not efficient \n",
        "# Translates sympy expr into numarical expr\n",
        "# Creates options for evaluating\n",
        "\n",
        "f = lambdify (x, f)\n",
        "df= lambdify (x,df)\n",
        "\n",
        "print(f(3))\n",
        "print(df(3))"
      ],
      "metadata": {
        "colab": {
          "base_uri": "https://localhost:8080/"
        },
        "id": "yJ-uOPC27W6i",
        "outputId": "7e0b7d34-e647-4d9f-8637-d62a04474176"
      },
      "execution_count": 27,
      "outputs": [
        {
          "output_type": "stream",
          "name": "stdout",
          "text": [
            "77\n",
            "63\n"
          ]
        }
      ]
    },
    {
      "cell_type": "code",
      "source": [],
      "metadata": {
        "id": "KBBZq5gK-TNt"
      },
      "execution_count": null,
      "outputs": []
    }
  ]
}